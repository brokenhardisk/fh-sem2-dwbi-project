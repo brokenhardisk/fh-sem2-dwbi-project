{
 "cells": [
  {
   "cell_type": "code",
   "execution_count": 5,
   "metadata": {},
   "outputs": [],
   "source": [
    "import os\n",
    "from sqlalchemy import create_engine\n",
    "from tqdm import tqdm\n",
    "import psycopg2\n",
    "import json\n",
    "import pandas as pd\n",
    "import numpy as np\n",
    "\n",
    "with open('../credentials.json') as f:\n",
    "    data = json.load(f)\n",
    "    psql_config = {\n",
    "    'dbname': data['db_name'],\n",
    "    'user': data['db_user'],\n",
    "    'password': data['db_pwd'],\n",
    "    'host': data['db_host'],\n",
    "    'port': 5432\n",
    "}\n",
    "\n",
    "\n",
    "def get_psql_connection():\n",
    "    try:\n",
    "        conn = psycopg2.connect(**psql_config)\n",
    "    except Exception as e:\n",
    "        print(\"Error connecting to the database:\", e)\n",
    "    return conn\n",
    "\n",
    "engine = create_engine(f'postgresql://{psql_config[\"user\"]}:{psql_config[\"password\"]}@{psql_config[\"host\"]}/{psql_config[\"dbname\"]}')\n"
   ]
  },
  {
   "cell_type": "code",
   "execution_count": 9,
   "metadata": {},
   "outputs": [
    {
     "name": "stdout",
     "output_type": "stream",
     "text": [
      "Error: cannot drop table m024.p_user_birthyear_dimension because other objects depend on it\n",
      "DETAIL:  constraint fk_user_birthyear on table m024.p_trip_fact depends on table m024.p_user_birthyear_dimension\n",
      "HINT:  Use DROP ... CASCADE to drop the dependent objects too.\n",
      "\n"
     ]
    }
   ],
   "source": [
    "SQL_SCRIPT_PATH = \"./db_2.sql\"\n",
    "try:\n",
    "    with get_psql_connection() as conn:\n",
    "        with conn.cursor() as cur:\n",
    "            # Read and execute SQL script\n",
    "            with open(SQL_SCRIPT_PATH, \"r\") as file:\n",
    "                sql_script = file.read()\n",
    "                cur.execute(sql_script)\n",
    "\n",
    "            print(\"Database setup script executed successfully!\")\n",
    "\n",
    "except Exception as e:\n",
    "    print(f\"Error: {e}\")\n"
   ]
  }
 ],
 "metadata": {
  "kernelspec": {
   "display_name": "deng",
   "language": "python",
   "name": "python3"
  },
  "language_info": {
   "codemirror_mode": {
    "name": "ipython",
    "version": 3
   },
   "file_extension": ".py",
   "mimetype": "text/x-python",
   "name": "python",
   "nbconvert_exporter": "python",
   "pygments_lexer": "ipython3",
   "version": "3.10.15"
  }
 },
 "nbformat": 4,
 "nbformat_minor": 2
}
